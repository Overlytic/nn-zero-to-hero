{
 "cells": [
  {
   "cell_type": "code",
   "execution_count": 2,
   "id": "867e8d46-d652-4702-9196-fc01e02f0f76",
   "metadata": {},
   "outputs": [],
   "source": [
    "# Pytorch tutorial: \n",
    "\n",
    "# The basics of pytorch - very quickly ... \n",
    "# https://pytorch.org/tutorials/beginner/basics/tensorqs_tutorial.htmlc\n",
    "\n",
    "import torch\n",
    "import numpy as np"
   ]
  },
  {
   "cell_type": "code",
   "execution_count": 10,
   "id": "a9b5b4fd-e1ad-463c-bbd8-2b8445196c79",
   "metadata": {},
   "outputs": [
    {
     "data": {
      "text/plain": [
       "tensor([[ 2.7183,  7.3891],\n",
       "        [20.0855, 54.5981]])"
      ]
     },
     "execution_count": 10,
     "metadata": {},
     "output_type": "execute_result"
    }
   ],
   "source": [
    "data = [[1,2], [3,4]]\n",
    "\n",
    "x_data = torch.tensor(data)\n",
    "x_data"
   ]
  },
  {
   "cell_type": "code",
   "execution_count": 13,
   "id": "4cb787b8-2d0d-4dbc-ad77-6447dd521c41",
   "metadata": {},
   "outputs": [
    {
     "data": {
      "text/plain": [
       "array([[1, 2],\n",
       "       [3, 4]])"
      ]
     },
     "execution_count": 13,
     "metadata": {},
     "output_type": "execute_result"
    }
   ],
   "source": [
    "np_array = np.array(data)\n",
    "x_np = torch.from_numpy(np_array)\n",
    "\n",
    "np_array"
   ]
  },
  {
   "cell_type": "code",
   "execution_count": 14,
   "id": "ea11dd42-0702-4a32-9899-a9df03b380c1",
   "metadata": {},
   "outputs": [
    {
     "data": {
      "text/plain": [
       "tensor([[1., 1.],\n",
       "        [1., 1.]])"
      ]
     },
     "execution_count": 14,
     "metadata": {},
     "output_type": "execute_result"
    }
   ],
   "source": [
    "torch.ones_like(x_data)"
   ]
  },
  {
   "cell_type": "code",
   "execution_count": 17,
   "id": "93b5aae5-4268-45dd-933e-b926bb4759ac",
   "metadata": {},
   "outputs": [
    {
     "data": {
      "text/plain": [
       "\u001b[0;31mDocstring:\u001b[0m\n",
       "rand_like(input, *, dtype=None, layout=None, device=None, requires_grad=False, memory_format=torch.preserve_format) -> Tensor\n",
       "\n",
       "Returns a tensor with the same size as :attr:`input` that is filled with\n",
       "random numbers from a uniform distribution on the interval :math:`[0, 1)`.\n",
       "``torch.rand_like(input)`` is equivalent to\n",
       "``torch.rand(input.size(), dtype=input.dtype, layout=input.layout, device=input.device)``.\n",
       "\n",
       "Args:\n",
       "    input (Tensor): the size of :attr:`input` will determine size of the output tensor.\n",
       "\n",
       "Keyword args:\n",
       "    dtype (:class:`torch.dtype`, optional): the desired data type of returned Tensor.\n",
       "        Default: if ``None``, defaults to the dtype of :attr:`input`.\n",
       "    layout (:class:`torch.layout`, optional): the desired layout of returned tensor.\n",
       "        Default: if ``None``, defaults to the layout of :attr:`input`.\n",
       "    device (:class:`torch.device`, optional): the desired device of returned tensor.\n",
       "        Default: if ``None``, defaults to the device of :attr:`input`.\n",
       "    requires_grad (bool, optional): If autograd should record operations on the\n",
       "        returned tensor. Default: ``False``.\n",
       "    memory_format (:class:`torch.memory_format`, optional): the desired memory format of\n",
       "        returned Tensor. Default: ``torch.preserve_format``.\n",
       "\u001b[0;31mType:\u001b[0m      builtin_function_or_method\n"
      ]
     },
     "metadata": {},
     "output_type": "display_data"
    }
   ],
   "source": [
    "?torch.rand_like"
   ]
  },
  {
   "cell_type": "code",
   "execution_count": 55,
   "id": "127c3f42-07d1-413d-9337-aa4c12e729f9",
   "metadata": {},
   "outputs": [
    {
     "data": {
      "text/plain": [
       "tensor([[0.7111, 0.9325],\n",
       "        [0.6130, 0.0117]])"
      ]
     },
     "execution_count": 55,
     "metadata": {},
     "output_type": "execute_result"
    }
   ],
   "source": [
    "g = torch.Generator().manual_seed(123)\n",
    "torch.rand_like(x_data, dtype=torch.float)"
   ]
  },
  {
   "cell_type": "code",
   "execution_count": 56,
   "id": "659805e9-8d52-4835-b7a2-eb6742562de0",
   "metadata": {},
   "outputs": [
    {
     "data": {
      "text/plain": [
       "\u001b[0;31mType:\u001b[0m        layout\n",
       "\u001b[0;31mString form:\u001b[0m torch.strided\n",
       "\u001b[0;31mFile:\u001b[0m        ~/.virtualenvs/torchy/lib/python3.9/site-packages/torch/__init__.py\n",
       "\u001b[0;31mDocstring:\u001b[0m   <no docstring>\n"
      ]
     },
     "metadata": {},
     "output_type": "display_data"
    }
   ],
   "source": [
    "?x_data.layout"
   ]
  },
  {
   "cell_type": "code",
   "execution_count": 57,
   "id": "0eb766c3-0538-4b70-9111-092a3e75352f",
   "metadata": {},
   "outputs": [
    {
     "data": {
      "text/plain": [
       "torch.Size([2, 2])"
      ]
     },
     "execution_count": 57,
     "metadata": {},
     "output_type": "execute_result"
    }
   ],
   "source": [
    "x_data.size()"
   ]
  },
  {
   "cell_type": "code",
   "execution_count": 58,
   "id": "0c41b913-9c07-4335-850d-22bde1b5d5a0",
   "metadata": {},
   "outputs": [
    {
     "data": {
      "text/plain": [
       "torch.float32"
      ]
     },
     "execution_count": 58,
     "metadata": {},
     "output_type": "execute_result"
    }
   ],
   "source": [
    "x_data.dtype"
   ]
  },
  {
   "cell_type": "code",
   "execution_count": 59,
   "id": "6de3ab94-5d37-4213-bb65-1c43cb1997cc",
   "metadata": {},
   "outputs": [
    {
     "data": {
      "text/plain": [
       "tensor([[0.2961, 0.5166],\n",
       "        [0.2517, 0.6886]])"
      ]
     },
     "execution_count": 59,
     "metadata": {},
     "output_type": "execute_result"
    }
   ],
   "source": [
    "g = torch.Generator().manual_seed(123)\n",
    "torch.rand(x_data.size(), dtype=x_data.dtype,generator=g)"
   ]
  },
  {
   "cell_type": "code",
   "execution_count": 60,
   "id": "55e6b0d1-51c4-41fb-a89a-90205776c797",
   "metadata": {},
   "outputs": [
    {
     "data": {
      "text/plain": [
       "device(type='cpu')"
      ]
     },
     "execution_count": 60,
     "metadata": {},
     "output_type": "execute_result"
    }
   ],
   "source": [
    "x_data.device "
   ]
  },
  {
   "cell_type": "code",
   "execution_count": null,
   "id": "5968f959-b877-4822-8922-01f5bdd02f48",
   "metadata": {},
   "outputs": [],
   "source": [
    "# move to another device\n",
    "\n",
    "if torch.cuda.is_available():\n",
    "    tensor = tensor.to(\"cuda\")"
   ]
  },
  {
   "cell_type": "code",
   "execution_count": 63,
   "id": "67a051c8-2e42-46d6-9004-624aca9f0c2b",
   "metadata": {},
   "outputs": [
    {
     "data": {
      "text/plain": [
       "tensor([[1., 1., 1., 1.]])"
      ]
     },
     "execution_count": 63,
     "metadata": {},
     "output_type": "execute_result"
    }
   ],
   "source": [
    "# concatenating tensors\n",
    "\n",
    "tensor = torch.ones(1, 4)\n",
    "\n",
    "tensor"
   ]
  },
  {
   "cell_type": "code",
   "execution_count": 65,
   "id": "f65bae34-acab-4bd7-a87c-c8be6a5ff940",
   "metadata": {},
   "outputs": [
    {
     "data": {
      "text/plain": [
       "tensor([[1., 1., 1., 1., 1., 1., 1., 1., 1., 1., 1., 1.]])"
      ]
     },
     "execution_count": 65,
     "metadata": {},
     "output_type": "execute_result"
    }
   ],
   "source": [
    "t1 = torch.cat([tensor, tensor, tensor], dim=1)\n",
    "t1"
   ]
  },
  {
   "cell_type": "code",
   "execution_count": 66,
   "id": "65424b21-7694-4f75-a029-21226cb0ddd7",
   "metadata": {},
   "outputs": [
    {
     "data": {
      "text/plain": [
       "tensor([[1., 1., 1., 1.],\n",
       "        [1., 1., 1., 1.],\n",
       "        [1., 1., 1., 1.]])"
      ]
     },
     "execution_count": 66,
     "metadata": {},
     "output_type": "execute_result"
    }
   ],
   "source": [
    "t1 = torch.cat([tensor, tensor, tensor], dim=0)\n",
    "t1"
   ]
  },
  {
   "cell_type": "code",
   "execution_count": 83,
   "id": "063cfaa2-ed4f-4266-8fdc-63a888066adb",
   "metadata": {},
   "outputs": [
    {
     "data": {
      "text/plain": [
       "tensor([[1., 1., 1., 1.],\n",
       "        [1., 1., 1., 1.],\n",
       "        [1., 1., 1., 1.],\n",
       "        [1., 1., 1., 1.]])"
      ]
     },
     "execution_count": 83,
     "metadata": {},
     "output_type": "execute_result"
    }
   ],
   "source": [
    "a = torch.ones(4, 4)\n",
    "\n",
    "# matrix multip\n",
    "y1 = a @ a.T\n",
    "y1_1 = a.matmul(a.T)\n",
    "\n",
    "y1_2 = torch.zeros(y1_1.shape)\n",
    "torch.matmul(a, a.T, out=y1_2)\n",
    "\n",
    "# element wise multi\n",
    "y2_1 = a * a \n",
    "y2_2 = a.mul(a)\n",
    "\n",
    "y2_3 = torch.zeros(y2_2.shape)\n",
    "torch.mul(a, a.T, out=y2_3)"
   ]
  },
  {
   "cell_type": "code",
   "execution_count": 91,
   "id": "3cc9421c-2d03-41f0-bc97-87b152667776",
   "metadata": {},
   "outputs": [
    {
     "data": {
      "text/plain": [
       "tensor([[1., 1., 1., 1.],\n",
       "        [1., 1., 1., 1.],\n",
       "        [1., 1., 1., 1.],\n",
       "        [1., 1., 1., 1.]])"
      ]
     },
     "execution_count": 91,
     "metadata": {},
     "output_type": "execute_result"
    }
   ],
   "source": [
    "y2_3"
   ]
  },
  {
   "cell_type": "code",
   "execution_count": 95,
   "id": "2a8a6ec2-48b3-49e6-b7a4-e3a18d329403",
   "metadata": {},
   "outputs": [
    {
     "data": {
      "text/plain": [
       "tensor(16.)"
      ]
     },
     "execution_count": 95,
     "metadata": {},
     "output_type": "execute_result"
    }
   ],
   "source": [
    "total = tensor.sum()\n",
    "total"
   ]
  },
  {
   "cell_type": "code",
   "execution_count": 96,
   "id": "2ffbc01d-da4e-4909-9745-947f517d13c1",
   "metadata": {},
   "outputs": [
    {
     "data": {
      "text/plain": [
       "16.0"
      ]
     },
     "execution_count": 96,
     "metadata": {},
     "output_type": "execute_result"
    }
   ],
   "source": [
    "total.item()"
   ]
  },
  {
   "cell_type": "code",
   "execution_count": 97,
   "id": "09cc63dd-a309-46c5-bcfa-34ef3b690045",
   "metadata": {},
   "outputs": [
    {
     "name": "stdout",
     "output_type": "stream",
     "text": [
      "tensor([[1., 1., 1., 1.],\n",
      "        [1., 1., 1., 1.],\n",
      "        [1., 1., 1., 1.],\n",
      "        [1., 1., 1., 1.]])\n",
      "tensor([[6., 6., 6., 6.],\n",
      "        [6., 6., 6., 6.],\n",
      "        [6., 6., 6., 6.],\n",
      "        [6., 6., 6., 6.]])\n"
     ]
    }
   ],
   "source": [
    "# inplace operations\n",
    "print(tensor)\n",
    "tensor.add_(5)\n",
    "print(tensor)"
   ]
  }
 ],
 "metadata": {
  "kernelspec": {
   "display_name": "Python 3 (ipykernel)",
   "language": "python",
   "name": "python3"
  },
  "language_info": {
   "codemirror_mode": {
    "name": "ipython",
    "version": 3
   },
   "file_extension": ".py",
   "mimetype": "text/x-python",
   "name": "python",
   "nbconvert_exporter": "python",
   "pygments_lexer": "ipython3",
   "version": "3.9.5"
  }
 },
 "nbformat": 4,
 "nbformat_minor": 5
}
